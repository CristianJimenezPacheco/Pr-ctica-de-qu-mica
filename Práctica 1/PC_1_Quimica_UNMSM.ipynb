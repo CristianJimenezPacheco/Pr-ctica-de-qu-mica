{
  "nbformat": 4,
  "nbformat_minor": 0,
  "metadata": {
    "colab": {
      "provenance": [],
      "include_colab_link": true
    },
    "kernelspec": {
      "name": "python3",
      "display_name": "Python 3"
    },
    "language_info": {
      "name": "python"
    },
    "widgets": {
      "application/vnd.jupyter.widget-state+json": {
        "d4691835f4474884829213796343340f": {
          "model_module": "faerun-notebook",
          "model_name": "SmilesDrawerModel",
          "model_module_version": "^0.1.5",
          "state": {
            "_dom_classes": [],
            "_model_module": "faerun-notebook",
            "_model_module_version": "^0.1.5",
            "_model_name": "SmilesDrawerModel",
            "_view_count": null,
            "_view_module": "faerun-notebook",
            "_view_module_version": "^0.1.5",
            "_view_name": "SmilesDrawerView",
            "background": "#1e1e1e",
            "border": true,
            "layout": "IPY_MODEL_35b7ce94b6e84d4c985918e50984dcd7",
            "options": {
              "scale": 1.25
            },
            "output": "svg",
            "theme": "dark",
            "value": [
              [
                "Rxn",
                "C(C1C(C(C(C(O1)O)O)O)O)O.O=O>>C(=O)=O.O"
              ]
            ]
          }
        },
        "35b7ce94b6e84d4c985918e50984dcd7": {
          "model_module": "@jupyter-widgets/base",
          "model_name": "LayoutModel",
          "model_module_version": "1.2.0",
          "state": {
            "_model_module": "@jupyter-widgets/base",
            "_model_module_version": "1.2.0",
            "_model_name": "LayoutModel",
            "_view_count": null,
            "_view_module": "@jupyter-widgets/base",
            "_view_module_version": "1.2.0",
            "_view_name": "LayoutView",
            "align_content": null,
            "align_items": null,
            "align_self": null,
            "border": null,
            "bottom": null,
            "display": null,
            "flex": null,
            "flex_flow": null,
            "grid_area": null,
            "grid_auto_columns": null,
            "grid_auto_flow": null,
            "grid_auto_rows": null,
            "grid_column": null,
            "grid_gap": null,
            "grid_row": null,
            "grid_template_areas": null,
            "grid_template_columns": null,
            "grid_template_rows": null,
            "height": null,
            "justify_content": null,
            "justify_items": null,
            "left": null,
            "margin": null,
            "max_height": null,
            "max_width": null,
            "min_height": null,
            "min_width": null,
            "object_fit": null,
            "object_position": null,
            "order": null,
            "overflow": null,
            "overflow_x": null,
            "overflow_y": null,
            "padding": null,
            "right": null,
            "top": null,
            "visibility": null,
            "width": null
          }
        }
      }
    }
  },
  "cells": [
    {
      "cell_type": "markdown",
      "metadata": {
        "id": "view-in-github",
        "colab_type": "text"
      },
      "source": [
        "<a href=\"https://colab.research.google.com/github/CristianJimenezPacheco/Pr-ctica-de-qu-mica/blob/main/Pr%C3%A1ctica%201/PC_1_Quimica_UNMSM.ipynb\" target=\"_parent\"><img src=\"https://colab.research.google.com/assets/colab-badge.svg\" alt=\"Open In Colab\"/></a>"
      ]
    },
    {
      "cell_type": "markdown",
      "source": [
        "$$\\Large \\textit{UNMSM | Química}$$\n",
        "$$\\large \\textbf{PC Nº1 | Materia y clasificación}$$\n",
        "\n",
        "_Profesor: Jesus Alvarado Huayhuaz_"
      ],
      "metadata": {
        "id": "sDJAjbaQOj4x"
      }
    },
    {
      "cell_type": "markdown",
      "source": [
        "Todas las indicaciones para la presentación de la práctica son explicadas en clase y brindadas en el material de enunciado de preguntas en formato PDF."
      ],
      "metadata": {
        "id": "_DsTzWLoP7Fy"
      }
    },
    {
      "cell_type": "markdown",
      "source": [
        "## Pregunta 1: Sobre el ABC de python (4 puntos)"
      ],
      "metadata": {
        "id": "obD7c2igOD6t"
      }
    },
    {
      "cell_type": "markdown",
      "source": [
        "Durante la semana de revisión del material \"ABC de python\", reflexiona sobre qué conceptos aprendiste con claridad y cuáles consideras los más desafiantes. A continuación resuelve los siguiente ejercicios, puedes ayudarte del material en http://bit.ly/3YKICSZ."
      ],
      "metadata": {
        "id": "emt93S7dL7QH"
      }
    },
    {
      "cell_type": "code",
      "source": [
        "# Imprime la versión de python que usas y las palabras reservadas de python para esa versión."
      ],
      "metadata": {
        "id": "6mJvqMN0LTU8"
      },
      "execution_count": null,
      "outputs": []
    },
    {
      "cell_type": "code",
      "source": [
        "import sys\n",
        "import keyword\n",
        "\n",
        "# Imprimir la versión de Python\n",
        "print(\"Versión de Python:\", sys.version)\n",
        "\n",
        "# Obtener palabras reservadas de Python\n",
        "print(\"\\nPalabras reservadas de Python:\")\n",
        "print(keyword.kwlist)"
      ],
      "metadata": {
        "id": "D8ur8dLBOccy",
        "outputId": "00faeca4-de79-48f4-e872-51fae343cbe8",
        "colab": {
          "base_uri": "https://localhost:8080/"
        }
      },
      "execution_count": 4,
      "outputs": [
        {
          "output_type": "stream",
          "name": "stdout",
          "text": [
            "Versión de Python: 3.10.12 (main, Jun 11 2023, 05:26:28) [GCC 11.4.0]\n",
            "\n",
            "Palabras reservadas de Python:\n",
            "['False', 'None', 'True', 'and', 'as', 'assert', 'async', 'await', 'break', 'class', 'continue', 'def', 'del', 'elif', 'else', 'except', 'finally', 'for', 'from', 'global', 'if', 'import', 'in', 'is', 'lambda', 'nonlocal', 'not', 'or', 'pass', 'raise', 'return', 'try', 'while', 'with', 'yield']\n"
          ]
        }
      ]
    },
    {
      "cell_type": "code",
      "source": [
        "# Crea una matriz de 3x3 e imprime la suma de los elementos en su diagonal (traza)."
      ],
      "metadata": {
        "id": "MxDzGypdLTXh"
      },
      "execution_count": null,
      "outputs": []
    },
    {
      "cell_type": "code",
      "source": [
        "# Crear una matriz de 3x3\n",
        "matriz = [[3, 2, 3],\n",
        "          [4, 5, 6],\n",
        "          [7, 8, 7]]\n",
        "\n",
        "# Calcular la suma de los elementos en la diagonal\n",
        "suma_diagonal = sum(matriz[i][i] for i in range(3))\n",
        "\n",
        "# Imprimir la matriz y la suma de la diagonal\n",
        "print(\"Matriz:\")\n",
        "for fila in matriz:\n",
        "    print(fila)\n",
        "\n",
        "print(\"\\nSuma de la diagonal:\", suma_diagonal)\n"
      ],
      "metadata": {
        "id": "lzIEFaPVOfvU",
        "colab": {
          "base_uri": "https://localhost:8080/"
        },
        "outputId": "c892b608-5074-4845-8322-71be99e2890a"
      },
      "execution_count": 6,
      "outputs": [
        {
          "output_type": "stream",
          "name": "stdout",
          "text": [
            "Matriz:\n",
            "[3, 2, 3]\n",
            "[4, 5, 6]\n",
            "[7, 8, 7]\n",
            "\n",
            "Suma de la diagonal: 15\n"
          ]
        }
      ]
    },
    {
      "cell_type": "code",
      "source": [
        "# Guarda como variable la masa atómica de los elementos C, H y O, e imprime la masa molecular del etanol."
      ],
      "metadata": {
        "id": "MyhNX7JmLTSe"
      },
      "execution_count": null,
      "outputs": []
    },
    {
      "cell_type": "code",
      "source": [
        "# Masas atómicas de los elementos en unidades de masa atómica\n",
        "masa_atomicas = {\n",
        "    'C': 12.01,\n",
        "    'H': 1.008,\n",
        "    'O': 15.999\n",
        "}\n",
        "\n",
        "# Fórmula química del etanol: C2H5OH\n",
        "formula_etanol = {'C': 2, 'H': 6, 'O': 1}\n",
        "\n",
        "# Calcular la masa molecular del etanol\n",
        "masa_molecular_etanol = sum(formula_etanol[element] * masa_atomicas[element] for element in formula_etanol)\n",
        "\n",
        "# Imprimir la masa molecular del etanol\n",
        "print(\"Masa molecular del etanol:\", masa_molecular_etanol, \"u\")\n"
      ],
      "metadata": {
        "colab": {
          "base_uri": "https://localhost:8080/"
        },
        "id": "4Z_-bC-bQjqk",
        "outputId": "19cf41d9-420e-4188-bdf4-91f0ec4bc9b8"
      },
      "execution_count": 9,
      "outputs": [
        {
          "output_type": "stream",
          "name": "stdout",
          "text": [
            "Masa molecular del etanol: 46.067 u\n"
          ]
        }
      ]
    },
    {
      "cell_type": "code",
      "source": [
        "# Busca la temperatura de fusión en Celsius de 5 metales y guárdalos en una lista. Imprime las temperaturas en Kelvin"
      ],
      "metadata": {
        "id": "NCOnJ0FwgLLc"
      },
      "execution_count": null,
      "outputs": []
    },
    {
      "cell_type": "code",
      "source": [
        "# Temperaturas de fusión en Celsius de 5 metales\n",
        "temperaturas_celsius = [1538, 660.32, 1064, 1457, 302.91]\n",
        "\n",
        "# Función para convertir Celsius a Kelvin\n",
        "def celsius_a_kelvin(celsius):\n",
        "    return celsius + 273.15\n",
        "\n",
        "# Convertir las temperaturas a Kelvin y guardarlas en una lista\n",
        "temperaturas_kelvin = [celsius_a_kelvin(temp) for temp in temperaturas_celsius]\n",
        "\n",
        "# Imprimir las temperaturas en Kelvin\n",
        "for metal, temp_kelvin in zip([\"Metal 1\", \"Metal 2\", \"Metal 3\", \"Metal 4\", \"Metal 5\"], temperaturas_kelvin):\n",
        "    print(f\"Temperatura de fusión de {metal}: {temp_kelvin:.2f} K\")"
      ],
      "metadata": {
        "colab": {
          "base_uri": "https://localhost:8080/"
        },
        "id": "re-_uaG9ROPO",
        "outputId": "a3d05f00-edba-4850-92bd-8f48e09e33d3"
      },
      "execution_count": 12,
      "outputs": [
        {
          "output_type": "stream",
          "name": "stdout",
          "text": [
            "Temperatura de fusión de Metal 1: 1811.15 K\n",
            "Temperatura de fusión de Metal 2: 933.47 K\n",
            "Temperatura de fusión de Metal 3: 1337.15 K\n",
            "Temperatura de fusión de Metal 4: 1730.15 K\n",
            "Temperatura de fusión de Metal 5: 576.06 K\n"
          ]
        }
      ]
    },
    {
      "cell_type": "markdown",
      "source": [
        "## Pregunta 2: Operaciones (4 puntos)"
      ],
      "metadata": {
        "id": "epzOadagLfPi"
      }
    },
    {
      "cell_type": "markdown",
      "source": [
        "Escribe un programa que lea repetidamente elementos químicos en español hasta que el usuario introduzca “fin”. Una vez se haya introducido “fin”, muestra por pantalla (o sea imprime) el total de elementos ingresados. Si el usuario introduce cualquier otra cosa que no sea un elemento químico, detecta su fallo usando try y except, muestra un mensaje de error y pasa al siguiente elemento."
      ],
      "metadata": {
        "id": "MbAEOGPsjOWZ"
      }
    },
    {
      "cell_type": "code",
      "source": [
        "# Diccionario de elementos químicos en español\n",
        "elementos_quimicos = {\n",
        "    \"hidrogeno\": 1, \"helio\": 2, \"litio\": 3, \"berilio\": 4, \"boro\": 5,\n",
        "    \"carbono\": 6, \"nitrogeno\": 7, \"oxigeno\": 8, \"fluor\": 9, \"neon\": 10\n",
        "}\n",
        "\n",
        "total_elementos = 0\n",
        "\n",
        "while True:\n",
        "    entrada = input(\"Introduce un elemento químico en español (o 'fin' para terminar): \")\n",
        "\n",
        "    if entrada.lower() == \"fin\":\n",
        "        break\n",
        "\n",
        "    try:\n",
        "        numero_atomico = elementos_quimicos[entrada.lower()]\n",
        "        total_elementos += 1\n",
        "        print(f\"Elemento encontrado: {entrada.capitalize()} (Número atómico: {numero_atomico})\")\n",
        "    except KeyError:\n",
        "        print(f\"Error: '{entrada}' no es un elemento químico válido.\")\n",
        "\n",
        "print(f\"Total de elementos ingresados: {total_elementos}\")"
      ],
      "metadata": {
        "id": "gJGX0p5QLetj",
        "colab": {
          "base_uri": "https://localhost:8080/"
        },
        "outputId": "cf8c255c-91a7-425c-9bff-b769bbb01627"
      },
      "execution_count": 14,
      "outputs": [
        {
          "output_type": "stream",
          "name": "stdout",
          "text": [
            "Introduce un elemento químico en español (o 'fin' para terminar): fin\n",
            "Total de elementos ingresados: 0\n"
          ]
        }
      ]
    },
    {
      "cell_type": "markdown",
      "source": [
        "# Pregunta 3: Conservación de la masa (4 puntos)"
      ],
      "metadata": {
        "id": "8gxSHpD3LZsh"
      }
    },
    {
      "cell_type": "markdown",
      "source": [
        "### Código necesario para generar la imagen"
      ],
      "metadata": {
        "id": "mMV9c3hDl7KL"
      }
    },
    {
      "cell_type": "code",
      "source": [
        "!pip install faerun-notebook==0.1.5b0\n",
        "\n",
        "import ipywidgets as widgets\n",
        "from faerun_notebook import SmilesDrawer\n",
        "from google.colab import output\n",
        "output.enable_custom_widget_manager()"
      ],
      "metadata": {
        "id": "JgF8Ohtbky65"
      },
      "execution_count": null,
      "outputs": []
    },
    {
      "cell_type": "markdown",
      "source": [
        "### Reacción química"
      ],
      "metadata": {
        "id": "5sLC10D_oSrV"
      }
    },
    {
      "cell_type": "markdown",
      "source": [
        "Demuestra cómo se cumple la conservación de la masa en la siguiente reacción química. Sugerencia: hacer un balance estequiométrico y luego emplear la masa molecular de reactivos y productos."
      ],
      "metadata": {
        "id": "OVRhAzaVmD86"
      }
    },
    {
      "cell_type": "code",
      "source": [
        "SmilesDrawer(value=[(\"Rxn\", \"C(C1C(C(C(C(O1)O)O)O)O)O.O=O>>C(=O)=O.O\")], theme='dark', background=\"#1e1e1e\", options={'scale': 1.25})"
      ],
      "metadata": {
        "colab": {
          "base_uri": "https://localhost:8080/",
          "height": 289,
          "referenced_widgets": [
            "d4691835f4474884829213796343340f",
            "35b7ce94b6e84d4c985918e50984dcd7"
          ]
        },
        "id": "CC0mAXWmnYyN",
        "outputId": "fb9a2a33-11fa-47cd-bffe-ce9c285db1d8"
      },
      "execution_count": null,
      "outputs": [
        {
          "output_type": "display_data",
          "data": {
            "text/plain": [
              "SmilesDrawer(background='#1e1e1e', options={'scale': 1.25}, theme='dark', value=[('Rxn', 'C(C1C(C(C(C(O1)O)O)O…"
            ],
            "application/vnd.jupyter.widget-view+json": {
              "version_major": 2,
              "version_minor": 0,
              "model_id": "d4691835f4474884829213796343340f"
            }
          },
          "metadata": {
            "application/vnd.jupyter.widget-view+json": {
              "colab": {
                "custom_widget_manager": {
                  "url": "https://ssl.gstatic.com/colaboratory-static/widgets/colab-cdn-widget-manager/b3e629b1971e1542/manager.min.js"
                }
              }
            }
          }
        }
      ]
    },
    {
      "cell_type": "code",
      "source": [
        "#Obtenemos\n",
        "#C(C1C(C(C(C(O1)O)O)O)O)O.O=O>>C(=O)=O.O\n",
        "#Balanceando = C6H12O6 + 6O2 → 6CO2 + 6H2O\n",
        "#Reactivos de la masa molecular:\n",
        "Carbono_R=12\n",
        "Hidrogeno_R=1\n",
        "Oxigeno_R=16\n",
        "\n",
        "reactivos_masa_total=((Carbono_R*6)+(Hidrogeno_R*12)+(Oxigeno_R*6))+(6*(Oxigeno_R*2))\n",
        "print(\"Masas totales de Reactivos:\",reactivos_masa_total)\n",
        "\n",
        "#Productos de la masa molecular:\n",
        "\n",
        "Carbono_P=12\n",
        "Hidrogeno_P=1\n",
        "Oxigeno_P=16\n",
        "productos_masa_total=(6*Carbono_P*1)+(6*Oxigeno_P*2)+(6*Hidrogeno_P*2)+(6*Oxigeno_P*1)\n",
        "print(\"Masa totales de Productos\",productos_masa_total)\n",
        "if abs(reactivos_masa_total-productos_masa_total) < 0.1:\n",
        "  print(\"conservación de la masa cumple\")\n",
        "else:\n",
        "  print(\"La conservación de la masa no se cumple.\")\n"
      ],
      "metadata": {
        "colab": {
          "base_uri": "https://localhost:8080/"
        },
        "id": "a_6DCbu5WCOo",
        "outputId": "76f57118-dd99-4993-fd2f-b9dad92c6ce7"
      },
      "execution_count": 34,
      "outputs": [
        {
          "output_type": "stream",
          "name": "stdout",
          "text": [
            "Masas totales de Reactivos: 372\n",
            "Masa totales de Productos 372\n",
            "conservación de la masa cumple\n"
          ]
        }
      ]
    },
    {
      "cell_type": "markdown",
      "source": [
        "## Pregunta 4: Notación científica (4 puntos)"
      ],
      "metadata": {
        "id": "Rh-nAUiKhJNB"
      }
    },
    {
      "cell_type": "markdown",
      "source": [
        "Imprime las siguientes operaciones según la notación científica:\n",
        "\n",
        "(1) $1.321 \\times 10^{-4} + 8.5 \\times 10^{-2}$\n",
        "\n",
        "(2) $1.71 \\times 10^{3} - 2.01 \\times 10^{2}\\$\n",
        "\n",
        "(3) $(7.4 \\times 10^5)(7.2 \\times 10^4)$\n",
        "\n",
        "(4) $(7.4 \\times 10^5)/(7.2 \\times 10^4)$"
      ],
      "metadata": {
        "id": "NIkI45Xdqqnt"
      }
    },
    {
      "cell_type": "code",
      "source": [
        "# Definir las operaciones en notación científica\n",
        "operacion1 = 1.321e-4 + 8.5e-2\n",
        "operacion2 = 1.71e3 - 2.01e2\n",
        "operacion3 = (7.4e5) * (7.2e4)\n",
        "operacion4 = (7.4e5) / (7.2e4)\n",
        "\n",
        "# Imprimir los resultados en notación científica\n",
        "print(\"Resultado de la operación 1:\", \"{:.2e}\".format(operacion1))\n",
        "print(\"Resultado de la operación 2:\", \"{:.2e}\".format(operacion2))\n",
        "print(\"Resultado de la operación 3:\", \"{:.2e}\".format(operacion3))\n",
        "print(\"Resultado de la operación 4:\", \"{:.2e}\".format(operacion4))"
      ],
      "metadata": {
        "colab": {
          "base_uri": "https://localhost:8080/"
        },
        "id": "IBCB9lrWTPLS",
        "outputId": "15251372-cc31-4d22-e332-aefe18b876b8"
      },
      "execution_count": 22,
      "outputs": [
        {
          "output_type": "stream",
          "name": "stdout",
          "text": [
            "Resultado de la operación 1: 8.51e-02\n",
            "Resultado de la operación 2: 1.51e+03\n",
            "Resultado de la operación 3: 5.33e+10\n",
            "Resultado de la operación 4: 1.03e+01\n"
          ]
        }
      ]
    },
    {
      "cell_type": "markdown",
      "source": [
        "## Pregunta 5: Método científico (4 puntos)"
      ],
      "metadata": {
        "id": "CuzCcXJghR14"
      }
    },
    {
      "cell_type": "markdown",
      "source": [
        "Artículo: https://bit.ly/3surZ1W\n",
        "Leer el siguiente artículo y explica cómo es aplicado el método científico. Emplea como máximo 300 palabras."
      ],
      "metadata": {
        "id": "WngRSR-Rhmx1"
      }
    },
    {
      "cell_type": "markdown",
      "source": [
        "Se empleó el método científico para resolver el enigma de LK-99 a través de una secuencia de pasos ordenados. Inicialmente, los científicos examinaron las características del material, que se creía que tenía propiedades de superconductor. Distinguidas instituciones, como la Universidad de Pekín y la Academia China de Ciencias, presentaron explicaciones alternativas para los fenómenos observados, como la elevación sobre un imán y cambios abruptos en la resistividad eléctrica.\n",
        "\n",
        "Posteriormente, otros investigadores realizaron a cabo investigaciones que integraban pruebas experimentales y teóricas para demostrar que la estructura del material no era compatible con la superconductividad. Se efectuaron intentos de repetición y análisis en distintos centros académicos, y finalmente se descubrió que el material no se comportaba como un superconductor a temperatura ambiente. Estos pasos abarcan el diseño y ejecución de experimentos, el minucioso análisis de los resultados y la comparación con teorías aceptadas.\n",
        "\n",
        "Al final, se acumularon diversas pruebas experimentales y teóricas, y los científicos concluyeron que el material LK-99 no era un superconductor, sino más bien un material aislante. Este proceso, basado en la observación, el análisis, la repetición y la evaluación crítica, ejemplifica cómo se aplica el método científico para resolver misterios y llegar a conclusiones fundadas y respaldadas por evidencia."
      ],
      "metadata": {
        "id": "V3IQQ_c_g93O"
      }
    }
  ]
}